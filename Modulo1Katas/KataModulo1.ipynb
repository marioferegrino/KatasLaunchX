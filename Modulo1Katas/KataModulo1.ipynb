{
 "cells": [
  {
   "cell_type": "markdown",
   "metadata": {},
   "source": [
    "# Muestra la fecha del día de hoy"
   ]
  },
  {
   "cell_type": "code",
   "execution_count": 4,
   "metadata": {},
   "outputs": [
    {
     "name": "stdout",
     "output_type": "stream",
     "text": [
      "Today's date is 2022-02-10\n"
     ]
    }
   ],
   "source": [
    "from datetime import date\r\n",
    "\r\n",
    "print(f\"Today's date is {date.today()}\")"
   ]
  },
  {
   "cell_type": "markdown",
   "metadata": {},
   "source": [
    "# Convertidor de unidades\r\n",
    "\r\n",
    "1 Parsec is equivalent to 3.26156 lightyears"
   ]
  },
  {
   "cell_type": "code",
   "execution_count": 5,
   "metadata": {},
   "outputs": [
    {
     "name": "stdout",
     "output_type": "stream",
     "text": [
      "The introduced value \"12r\" is not a number.\n"
     ]
    }
   ],
   "source": [
    "LIGHTYEARS_IN_PARSEC = 3.26156\r\n",
    "parsec_string = input(\"Introduce el número de parsecs a ser convertidos a años luz: \")\r\n",
    "try:\r\n",
    "    parsec_num = float(parsec_string)\r\n",
    "    lightyears = parsec_num * LIGHTYEARS_IN_PARSEC\r\n",
    "\r\n",
    "    print(str(parsec_num) + \" parsec, is \" + str(lightyears) + \" lightyears\")\r\n",
    "except ValueError:\r\n",
    "    print(f\"The introduced value \\\"{parsec_string}\\\" is not a number. Aborting conversion to lightyears...\")"
   ]
  }
 ],
 "metadata": {
  "interpreter": {
   "hash": "ac59ebe37160ed0dfa835113d9b8498d9f09ceb179beaac4002f036b9467c963"
  },
  "kernelspec": {
   "display_name": "Python 3.9.5 64-bit",
   "name": "python3"
  },
  "language_info": {
   "codemirror_mode": {
    "name": "ipython",
    "version": 3
   },
   "file_extension": ".py",
   "mimetype": "text/x-python",
   "name": "python",
   "nbconvert_exporter": "python",
   "pygments_lexer": "ipython3",
   "version": "3.9.5"
  },
  "orig_nbformat": 4
 },
 "nbformat": 4,
 "nbformat_minor": 2
}