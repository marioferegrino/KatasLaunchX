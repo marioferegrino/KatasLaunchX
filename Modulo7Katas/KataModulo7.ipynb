{
 "cells": [
  {
   "cell_type": "markdown",
   "metadata": {},
   "source": [
    "# Ejercicio 1: Uso de ciclos while en Python"
   ]
  },
  {
   "cell_type": "code",
   "execution_count": 7,
   "metadata": {},
   "outputs": [
    {
     "name": "stdout",
     "output_type": "stream",
     "text": [
      "Captured planets are: ['Mercurio', 'Venus', 'Tierra', 'Martte']\n"
     ]
    }
   ],
   "source": [
    "planets = []\r\n",
    "new_planet = \"\"\r\n",
    "while new_planet.lower() != \"done\":\r\n",
    "    if new_planet:\r\n",
    "        planets.append(new_planet)\r\n",
    "    new_planet = input(\"Introduce a new planet name(type done when you finish): \")\r\n",
    "\r\n",
    "print(f\"Captured planets are: {planets}\")"
   ]
  },
  {
   "cell_type": "markdown",
   "metadata": {},
   "source": [
    "# Ejercicio 2: Creación de un ciclo \"for\""
   ]
  },
  {
   "cell_type": "code",
   "execution_count": 8,
   "metadata": {},
   "outputs": [
    {
     "name": "stdout",
     "output_type": "stream",
     "text": [
      "Captured planets are: \n",
      "- Mercurio \n",
      "- Venus \n",
      "- Tierra \n",
      "- Martte \n"
     ]
    }
   ],
   "source": [
    "print(\"Captured planets are: \")\r\n",
    "for planet in planets:\r\n",
    "    print(f\"- {planet} \")"
   ]
  }
 ],
 "metadata": {
  "interpreter": {
   "hash": "f8554e35ffdf9952eed6ee2a63ccc4c65a2f06e8ab49bf17be418ac557d9c79c"
  },
  "kernelspec": {
   "display_name": "Python 3.9.5 64-bit ('env')",
   "name": "python3"
  },
  "language_info": {
   "codemirror_mode": {
    "name": "ipython",
    "version": 3
   },
   "file_extension": ".py",
   "mimetype": "text/x-python",
   "name": "python",
   "nbconvert_exporter": "python",
   "pygments_lexer": "ipython3",
   "version": "3.9.5"
  },
  "orig_nbformat": 4
 },
 "nbformat": 4,
 "nbformat_minor": 2
}