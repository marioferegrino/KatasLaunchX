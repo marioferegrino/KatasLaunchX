{
 "cells": [
  {
   "cell_type": "markdown",
   "metadata": {},
   "source": [
    "# Ejercicio 1: Encontrar la distancia entre planetas\r\n",
    "Para lograr encontrar la distancia se necesita usar la funcion abs para obtener un valor sin signo."
   ]
  },
  {
   "cell_type": "code",
   "execution_count": 7,
   "metadata": {},
   "outputs": [
    {
     "name": "stdout",
     "output_type": "stream",
     "text": [
      "La distancia entre estos planetas es: 628949330 km or 390577533.93 millas\n"
     ]
    }
   ],
   "source": [
    "distancia_tierra = 149597870\r\n",
    "distancia_jupiter = 778547200\r\n",
    "\r\n",
    "distancia_entre_planetas = abs(distancia_tierra - distancia_jupiter)\r\n",
    "print(f\"La distancia entre estos planetas es: {distancia_entre_planetas} km or {distancia_entre_planetas * 0.621} millas\")"
   ]
  },
  {
   "cell_type": "markdown",
   "metadata": {},
   "source": [
    "Ejercicio 2: Convierte cadenas en números y usa valores absolutos"
   ]
  },
  {
   "cell_type": "code",
   "execution_count": 8,
   "metadata": {},
   "outputs": [
    {
     "name": "stdout",
     "output_type": "stream",
     "text": [
      "La distancia entre estos planetas es: 1622600000 km or 1007634600.0 millas\n"
     ]
    }
   ],
   "source": [
    "dist_planeta1 = int(input(\"Introduce la distancia en km entre el sol y el planeta 1: \"))\r\n",
    "dist_planeta2 = int(input(\"Introduce la distancia en km entre el sol y el planeta 2: \"))\r\n",
    "\r\n",
    "distancia_entre_planetas = abs(dist_planeta1 - dist_planeta2)\r\n",
    "\r\n",
    "print(f\"La distancia entre estos planetas es: {distancia_entre_planetas} km or {distancia_entre_planetas * 0.621} millas\")\r\n",
    "\r\n",
    "\r\n"
   ]
  }
 ],
 "metadata": {
  "interpreter": {
   "hash": "f8554e35ffdf9952eed6ee2a63ccc4c65a2f06e8ab49bf17be418ac557d9c79c"
  },
  "kernelspec": {
   "display_name": "Python 3.9.5 64-bit ('env')",
   "name": "python3"
  },
  "language_info": {
   "codemirror_mode": {
    "name": "ipython",
    "version": 3
   },
   "file_extension": ".py",
   "mimetype": "text/x-python",
   "name": "python",
   "nbconvert_exporter": "python",
   "pygments_lexer": "ipython3",
   "version": "3.9.5"
  },
  "orig_nbformat": 4
 },
 "nbformat": 4,
 "nbformat_minor": 2
}