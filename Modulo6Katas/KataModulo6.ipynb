{
 "cells": [
  {
   "cell_type": "code",
   "execution_count": 13,
   "metadata": {},
   "outputs": [],
   "source": [
    "# Ejercicio1: Crear y usar listas de Python"
   ]
  },
  {
   "cell_type": "code",
   "execution_count": 14,
   "metadata": {},
   "outputs": [
    {
     "name": "stdout",
     "output_type": "stream",
     "text": [
      "The number of planets in the list is 8\n",
      "Now, the number of planets in the list is 9. The last planet in the list is: Pluton\n"
     ]
    }
   ],
   "source": [
    "planets = ['Mercury', 'Venus', 'Earth', 'Mars', 'Jupiter', 'Saturn', 'Uranus', 'Neptune']\r\n",
    "print(f\"The number of planets in the list is {len(planets)}\")\r\n",
    "\r\n",
    "planets += [\"Pluton\"]\r\n",
    "print(f\"Now, the number of planets in the list is {len(planets)}. The last planet in the list is: {planets[-1]}\")"
   ]
  },
  {
   "cell_type": "markdown",
   "metadata": {},
   "source": [
    "# Ejercicio 2: Trabajando con datos de una lista"
   ]
  },
  {
   "cell_type": "code",
   "execution_count": 15,
   "metadata": {},
   "outputs": [
    {
     "name": "stdout",
     "output_type": "stream",
     "text": [
      "These planets are the closest to the sun: ['Mercury', 'Venus']\n",
      "These planets are the farest to the sun: ['Mars', 'Jupiter', 'Saturn', 'Neptune']\n"
     ]
    }
   ],
   "source": [
    "# Lista de planetas\r\n",
    "planets = ['Mercury', 'Venus', 'Earth', 'Mars', 'Jupiter', 'Saturn', 'Neptune']\r\n",
    "planet = input(\"Introduce the name of a planet(Use capital letter for the very first letter in the name): \")\r\n",
    "\r\n",
    "index = planets.index(planet)\r\n",
    "if index != -1:\r\n",
    "    print(f\"These planets are the closest to the sun: {planets[0:index]}\")\r\n",
    "    print(f\"These planets are the farest to the sun: {planets[index + 1:]}\")"
   ]
  }
 ],
 "metadata": {
  "interpreter": {
   "hash": "f8554e35ffdf9952eed6ee2a63ccc4c65a2f06e8ab49bf17be418ac557d9c79c"
  },
  "kernelspec": {
   "display_name": "Python 3.9.5 64-bit ('env')",
   "name": "python3"
  },
  "language_info": {
   "codemirror_mode": {
    "name": "ipython",
    "version": 3
   },
   "file_extension": ".py",
   "mimetype": "text/x-python",
   "name": "python",
   "nbconvert_exporter": "python",
   "pygments_lexer": "ipython3",
   "version": "3.9.5"
  },
  "orig_nbformat": 4
 },
 "nbformat": 4,
 "nbformat_minor": 2
}