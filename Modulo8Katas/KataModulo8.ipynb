{
 "cells": [
  {
   "cell_type": "markdown",
   "metadata": {},
   "source": [
    "# Ejercicio 1: Creación de diccionarios de Python"
   ]
  },
  {
   "cell_type": "code",
   "execution_count": 4,
   "metadata": {},
   "outputs": [
    {
     "name": "stdout",
     "output_type": "stream",
     "text": [
      "Planet name: Mars\n",
      "Number of moons: 42\n",
      "Mars has a polar circunference of: 6752\n"
     ]
    }
   ],
   "source": [
    "planet = {\r\n",
    "    'name': 'Mars',\r\n",
    "    'moons': 42\r\n",
    "}\r\n",
    "\r\n",
    "print(f\"Planet name: {planet.get('name')}\")\r\n",
    "print(f\"Number of moons: {planet.get('moons')}\")\r\n",
    "planet['circunferencia (km)'] = {\r\n",
    "    'polar': 6752,\r\n",
    "    'equatorial': 6792\r\n",
    "}\r\n",
    "\r\n",
    "print(f\"{planet.get('name')} has a polar circunference of: {planet['circunferencia (km)']['polar']}\")"
   ]
  },
  {
   "cell_type": "markdown",
   "metadata": {},
   "source": [
    "# Ejercicio 2: Programación dinámica con diccionarios"
   ]
  },
  {
   "cell_type": "code",
   "execution_count": 5,
   "metadata": {},
   "outputs": [
    {
     "name": "stdout",
     "output_type": "stream",
     "text": [
      "The average number of moons per planet is: 17.833333333333332\n"
     ]
    }
   ],
   "source": [
    "# Planets and moons\r\n",
    "planet_moons = {\r\n",
    "    'mercury': 0,\r\n",
    "    'venus': 0,\r\n",
    "    'earth': 1,\r\n",
    "    'mars': 2,\r\n",
    "    'jupiter': 79,\r\n",
    "    'saturn': 82,\r\n",
    "    'uranus': 27,\r\n",
    "    'neptune': 14,\r\n",
    "    'pluto': 5,\r\n",
    "    'haumea': 2,\r\n",
    "    'makemake': 1,\r\n",
    "    'eris': 1\r\n",
    "}\r\n",
    "\r\n",
    "moons = planet_moons.values()\r\n",
    "planets = len(planet_moons.keys())\r\n",
    "\r\n",
    "\r\n",
    "total_moons = 0\r\n",
    "for moons_number in moons:\r\n",
    "    total_moons += moons_number\r\n",
    "\r\n",
    "print(f\"The average number of moons per planet is: {total_moons/planets}\")"
   ]
  }
 ],
 "metadata": {
  "interpreter": {
   "hash": "f8554e35ffdf9952eed6ee2a63ccc4c65a2f06e8ab49bf17be418ac557d9c79c"
  },
  "kernelspec": {
   "display_name": "Python 3.9.5 64-bit ('env')",
   "name": "python3"
  },
  "language_info": {
   "codemirror_mode": {
    "name": "ipython",
    "version": 3
   },
   "file_extension": ".py",
   "mimetype": "text/x-python",
   "name": "python",
   "nbconvert_exporter": "python",
   "pygments_lexer": "ipython3",
   "version": "3.9.5"
  },
  "orig_nbformat": 4
 },
 "nbformat": 4,
 "nbformat_minor": 2
}