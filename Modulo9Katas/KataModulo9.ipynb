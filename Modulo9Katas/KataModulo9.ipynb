{
 "cells": [
  {
   "cell_type": "markdown",
   "metadata": {},
   "source": [
    "# Ejercicio: Uso de funciones en Python"
   ]
  },
  {
   "cell_type": "code",
   "execution_count": 22,
   "metadata": {},
   "outputs": [
    {
     "name": "stdout",
     "output_type": "stream",
     "text": [
      "\n",
      "Informe de combustible:\n",
      "El total de combustible es: 600\n",
      "El promedio de combustible es: 200.0\n"
     ]
    }
   ],
   "source": [
    "def obtiene_informe_combustible(tanque_1, tanque_2, tanque_3):\r\n",
    "    total_combustible = tanque_1 + tanque_2 + tanque_3\r\n",
    "    print(f\"El total de combustible es: {total_combustible}\")\r\n",
    "    print(f\"El promedio de combustible es: {obtiene_promedioe_combustible(tanque_1, tanque_2, tanque_3)}\")\r\n",
    "\r\n",
    "def obtiene_promedioe_combustible(tanque_1, tanque_2, tanque_3):\r\n",
    "    promedio_combustible = (tanque_1 + tanque_2 + tanque_3) / 3\r\n",
    "    return promedio_combustible\r\n",
    "\r\n",
    "print(f\"\\nInforme de combustible:\")\r\n",
    "obtiene_informe_combustible(100, 200, 300)\r\n"
   ]
  },
  {
   "cell_type": "markdown",
   "metadata": {},
   "source": [
    "# Ejercicio 2: Trabajo con argumentos de palabra clave"
   ]
  },
  {
   "cell_type": "code",
   "execution_count": 23,
   "metadata": {},
   "outputs": [
    {
     "name": "stdout",
     "output_type": "stream",
     "text": [
      "\n",
      "    La mision a el/la Luna tiene un tiempo actual de vuelo de 65 minutos\n",
      "    y hasta el momento se cuenta con total de combustible de 500000 galones\n",
      "    \n",
      "\n",
      "    La mision a el/la Luna tiene un tiempo actual de vuelo de 76 minutos\n",
      "    y hasta el momento se cuenta con total de combustible de 500000 galones\n",
      "    \n",
      "\n",
      "    La mision a el/la Luna tiene un tiempo actual de vuelo de 76 minutos\n",
      "    y hasta el momento se cuenta con total de combustible de 500000 galones\n",
      "    main: 300000\n",
      "external: 200000\n",
      "\n"
     ]
    }
   ],
   "source": [
    "def informe_cohete(hora_de_prelanzamiento, tiempo_de_vuelo, destino, tanque_externo, tanque_interno):\r\n",
    "    print(f\"\"\"\r\n",
    "    La mision a el/la {destino} tiene un tiempo actual de vuelo de {hora_de_prelanzamiento + tiempo_de_vuelo} minutos\r\n",
    "    y hasta el momento se cuenta con total de combustible de {tanque_externo + tanque_interno} galones\r\n",
    "    \"\"\")\r\n",
    "informe_cohete(14, 51, \"Luna\", 200000, 300000)\r\n",
    "\r\n",
    "\r\n",
    "def informe_cohete_v2(destino, *minutes, **fuel_reservoirs):\r\n",
    "    print(f\"\"\"\r\n",
    "    La mision a el/la {destino} tiene un tiempo actual de vuelo de {sum(minutes)} minutos\r\n",
    "    y hasta el momento se cuenta con total de combustible de {sum(fuel_reservoirs.values())} galones\r\n",
    "    \"\"\")\r\n",
    "informe_cohete_v2(\"Luna\", 10, 15, 51, main=300000, external=200000)\r\n",
    "\r\n",
    "\r\n",
    "def informe_cohete_v3(destino, *minutes, **fuel_reservoirs):\r\n",
    "    reporte = f\"\"\"\r\n",
    "    La mision a el/la {destino} tiene un tiempo actual de vuelo de {sum(minutes)} minutos\r\n",
    "    y hasta el momento se cuenta con total de combustible de {sum(fuel_reservoirs.values())} galones\r\n",
    "    \"\"\"\r\n",
    "    tanques_info = \"\"\r\n",
    "    for tanque, cantidad in fuel_reservoirs.items():\r\n",
    "        tanques_info += f\"{tanque}: {cantidad}\\n\"\r\n",
    "    \r\n",
    "    reporte += tanques_info\r\n",
    "    print(reporte)\r\n",
    "\r\n",
    "informe_cohete_v3(\"Luna\", 10, 15, 51, main=300000, external=200000)"
   ]
  }
 ],
 "metadata": {
  "interpreter": {
   "hash": "f8554e35ffdf9952eed6ee2a63ccc4c65a2f06e8ab49bf17be418ac557d9c79c"
  },
  "kernelspec": {
   "display_name": "Python 3.9.5 64-bit ('env')",
   "name": "python3"
  },
  "language_info": {
   "codemirror_mode": {
    "name": "ipython",
    "version": 3
   },
   "file_extension": ".py",
   "mimetype": "text/x-python",
   "name": "python",
   "nbconvert_exporter": "python",
   "pygments_lexer": "ipython3",
   "version": "3.9.5"
  },
  "orig_nbformat": 4
 },
 "nbformat": 4,
 "nbformat_minor": 2
}