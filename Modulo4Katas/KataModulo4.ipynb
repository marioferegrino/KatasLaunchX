{
 "cells": [
  {
   "cell_type": "markdown",
   "metadata": {},
   "source": [
    "# Ejercicio 1: Transformar Cadenas"
   ]
  },
  {
   "cell_type": "code",
   "execution_count": 12,
   "metadata": {},
   "outputs": [
    {
     "name": "stdout",
     "output_type": "stream",
     "text": [
      "['Interesting facts about the Moon', \" The Moon is Earth's only satellite\", ' There are several interesting facts about the Moon and how it affects life here on Earth', ' \\nOn average, the Moon moves 4cm away from the Earth every year', ' This yearly drift is not significant enough to cause immediate effects on Earth', ' The highest daylight temperature of the Moon is 127 C', '']\n",
      " \n",
      "On average, the Moon moves 4cm away from the Earth every year\n",
      " The highest daylight temperature of the Moon is 127 Celsius\n"
     ]
    }
   ],
   "source": [
    "text = \"\"\"Interesting facts about the Moon. The Moon is Earth's only satellite. There are several interesting facts about the Moon and how it affects life here on Earth. \r\n",
    "On average, the Moon moves 4cm away from the Earth every year. This yearly drift is not significant enough to cause immediate effects on Earth. The highest daylight temperature of the Moon is 127 C.\"\"\"\r\n",
    "\r\n",
    "oraciones = text.split('.')\r\n",
    "print(oraciones)\r\n",
    "\r\n",
    "palabras_clave = [\"average\", \"temperature\", \"distance\"]\r\n",
    "\r\n",
    "for oracion in oraciones:\r\n",
    "    for keyword in palabras_clave:\r\n",
    "        if keyword in oracion:\r\n",
    "            print(f'{oracion.replace(\" C\", \" Celsius\")}')\r\n",
    "            break"
   ]
  },
  {
   "cell_type": "markdown",
   "metadata": {},
   "source": [
    "Ejercicio 2: Formateando Cadenas"
   ]
  },
  {
   "cell_type": "code",
   "execution_count": 20,
   "metadata": {},
   "outputs": [
    {
     "name": "stdout",
     "output_type": "stream",
     "text": [
      "Gravity Facts About Luna\n",
      "--------------------------------------------------\n",
      "Planet Name: Earth\n",
      "Gravity on Luna: 1.4300000000000002 m/s2\n"
     ]
    }
   ],
   "source": [
    "# Datos con los que vas a trabajar\r\n",
    "name = \"Luna\"\r\n",
    "gravity = 0.00143 # in kms\r\n",
    "planet = \"Earth\"\r\n",
    "\r\n",
    "titulo = f\"Gravity Facts about {name}\".title()\r\n",
    "hechos = f\"\"\"{'-'*50}\r\n",
    "Planet Name: {planet}\r\n",
    "Gravity on {name}: {gravity * 1000} m/s2\"\"\"\r\n",
    "\r\n",
    "plantilla = f\"{titulo}\\n{hechos}\"\r\n",
    "print(f\"{plantilla}\")\r\n"
   ]
  }
 ],
 "metadata": {
  "interpreter": {
   "hash": "f8554e35ffdf9952eed6ee2a63ccc4c65a2f06e8ab49bf17be418ac557d9c79c"
  },
  "kernelspec": {
   "display_name": "Python 3.9.5 64-bit ('env')",
   "name": "python3"
  },
  "language_info": {
   "codemirror_mode": {
    "name": "ipython",
    "version": 3
   },
   "file_extension": ".py",
   "mimetype": "text/x-python",
   "name": "python",
   "nbconvert_exporter": "python",
   "pygments_lexer": "ipython3",
   "version": "3.9.5"
  },
  "orig_nbformat": 4
 },
 "nbformat": 4,
 "nbformat_minor": 2
}