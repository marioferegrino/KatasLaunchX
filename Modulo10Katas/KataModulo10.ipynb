{
 "cells": [
  {
   "cell_type": "markdown",
   "metadata": {},
   "source": [
    "# Manejo de errores - Funcion para ejemplificar cuando el archivo no existe"
   ]
  },
  {
   "cell_type": "code",
   "execution_count": 49,
   "metadata": {},
   "outputs": [],
   "source": [
    "\r\n",
    "def file_doesnt_exist():\r\n",
    "    file_name = \"not_existing_file.config\"\r\n",
    "\r\n",
    "    try:\r\n",
    "        with open(file_name, \"r\") as fd:\r\n",
    "            for line in fd.readlines():\r\n",
    "                print(f\"{line}\")\r\n",
    "    except FileNotFoundError as ex:\r\n",
    "        print(f\"File \\\"{file_name}\\\" doesn't exist and thus its content cannot be printed.\\nErrno: {ex.errno}: {ex.strerror}\")\r\n"
   ]
  },
  {
   "cell_type": "markdown",
   "metadata": {},
   "source": [
    "# Manejo de errores - Funcion para ejemplificar cuando el archivo es en realidad un directorio"
   ]
  },
  {
   "cell_type": "code",
   "execution_count": 50,
   "metadata": {},
   "outputs": [],
   "source": [
    "def file_is_directory():\r\n",
    "    file_name = \"file_is_directory.config\"\r\n",
    "\r\n",
    "    try:\r\n",
    "        with open(file_name, \"r\") as fd:\r\n",
    "            for line in fd.readlines():\r\n",
    "                print(f\"{line}\")\r\n",
    "    except PermissionError as ex:\r\n",
    "        print(f\"File \\\"{file_name}\\\" is a directory, not a file and thus cannot be printed.\\nErrno: {ex.errno}: {ex.strerror}\")\r\n"
   ]
  },
  {
   "cell_type": "markdown",
   "metadata": {},
   "source": [
    "# Ahora llama a todoas las funciones creadas"
   ]
  },
  {
   "cell_type": "markdown",
   "metadata": {},
   "source": [
    "# Generar exceptiones"
   ]
  },
  {
   "cell_type": "code",
   "execution_count": 51,
   "metadata": {},
   "outputs": [],
   "source": [
    "def water_left(astronauts, water_left, days_left):\r\n",
    "    for argument in [astronauts, water_left, days_left]:\r\n",
    "        try:\r\n",
    "            # If argument is an int, the following operation will work\r\n",
    "            argument / 10\r\n",
    "        except TypeError:\r\n",
    "            # TypError will be raised only if it isn't the right type \r\n",
    "            # Raise the same exception but with a better error message\r\n",
    "            raise TypeError(f\"All arguments must be of type int, but received: '{argument}'\")\r\n",
    "\r\n",
    "    daily_usage = astronauts * 11\r\n",
    "    total_usage = daily_usage * days_left\r\n",
    "    total_water_left = water_left - total_usage\r\n",
    "    if total_water_left < 0:\r\n",
    "        raise RuntimeError(f\"There is not enough water for {astronauts} astronauts after {days_left} days!\")\r\n",
    "    return f\"Total water left after {days_left} days is: {total_water_left} liters\"\r\n",
    "\r\n",
    "def alert_navigation_system(an_error: Exception):\r\n",
    "    print(f\"Alerting the navigation system about: {an_error}\")"
   ]
  },
  {
   "cell_type": "code",
   "execution_count": 52,
   "metadata": {},
   "outputs": [
    {
     "name": "stdout",
     "output_type": "stream",
     "text": [
      "Exception handling examples\n",
      "File \"not_existing_file.config\" doesn't exist and thus its content cannot be printed.\n",
      "Errno: 2: No such file or directory\n",
      "File \"file_is_directory.config\" is a directory, not a file and thus cannot be printed.\n",
      "Errno: 13: Permission denied\n",
      "\n",
      "\n",
      "Throwing Exception examples\n",
      "Alerting the navigation system about: There is not enough water for 5 astronauts after 2 days!\n",
      "Invalid parameters: All arguments must be of type int, but received: '5'\n"
     ]
    }
   ],
   "source": [
    "if __name__ == '__main__':\r\n",
    "    print(\"Exception handling examples\")\r\n",
    "    file_doesnt_exist()\r\n",
    "    file_is_directory()\r\n",
    "\r\n",
    "    print(\"\\n\\nThrowing Exception examples\")\r\n",
    "    try:\r\n",
    "        water_left(5, 100, 2)\r\n",
    "    except RuntimeError as err:\r\n",
    "        alert_navigation_system(err)\r\n",
    "\r\n",
    "    try:\r\n",
    "        water_left(\"5\", \"100\", 2)\r\n",
    "    except RuntimeError as err:\r\n",
    "        alert_navigation_system(err)\r\n",
    "    except TypeError as err:\r\n",
    "        print(f\"Invalid parameters: {err}\")\r\n"
   ]
  }
 ],
 "metadata": {
  "interpreter": {
   "hash": "ac59ebe37160ed0dfa835113d9b8498d9f09ceb179beaac4002f036b9467c963"
  },
  "kernelspec": {
   "display_name": "Python 3.9.5 64-bit",
   "name": "python3"
  },
  "language_info": {
   "codemirror_mode": {
    "name": "ipython",
    "version": 3
   },
   "file_extension": ".py",
   "mimetype": "text/x-python",
   "name": "python",
   "nbconvert_exporter": "python",
   "pygments_lexer": "ipython3",
   "version": "3.9.5"
  },
  "orig_nbformat": 4
 },
 "nbformat": 4,
 "nbformat_minor": 2
}