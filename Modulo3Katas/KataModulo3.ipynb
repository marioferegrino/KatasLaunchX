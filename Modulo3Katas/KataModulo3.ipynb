{
 "cells": [
  {
   "cell_type": "markdown",
   "metadata": {},
   "source": [
    "# Problema No. 1: Un asteroide de acerca"
   ]
  },
  {
   "cell_type": "code",
   "execution_count": 18,
   "metadata": {},
   "outputs": [
    {
     "name": "stdout",
     "output_type": "stream",
     "text": [
      "Un asteroide se acerca a la tierra demasiado ráoido!\n"
     ]
    }
   ],
   "source": [
    "velocidad_asteroide_km_s = 49\r\n",
    "\r\n",
    "if velocidad_asteroide_km_s > 25:\r\n",
    "    print(\"Un asteroide se acerca a la tierra demasiado ráoido!\")\r\n",
    "else:\r\n",
    "    print(\"Todo en orden, no pasa nada!\")"
   ]
  },
  {
   "cell_type": "markdown",
   "metadata": {},
   "source": [
    "# Problema No. 2: Hola gente, busquen un asteroide en el cielo"
   ]
  },
  {
   "cell_type": "code",
   "execution_count": 19,
   "metadata": {},
   "outputs": [
    {
     "name": "stdout",
     "output_type": "stream",
     "text": [
      "No hay nada interesante en el cielo hoy!\n"
     ]
    }
   ],
   "source": [
    "velocidad_asteroide_km_s = 19\r\n",
    "\r\n",
    "if velocidad_asteroide_km_s > 20:\r\n",
    "    print(\"Busquen un asteroide en el cielo!\")\r\n",
    "elif velocidad_asteroide_km_s == 20:\r\n",
    "    print(\"Busquen un asteroide en el cielo!\")\r\n",
    "else:\r\n",
    "    print(\"No hay nada interesante en el cielo hoy!\")"
   ]
  },
  {
   "cell_type": "markdown",
   "metadata": {},
   "source": [
    "# Problema No. 3: Asteroides de diferentes tamaños y velocidades se acercan a la tierra."
   ]
  },
  {
   "cell_type": "code",
   "execution_count": 20,
   "metadata": {},
   "outputs": [
    {
     "name": "stdout",
     "output_type": "stream",
     "text": [
      "No hay nada interesante en el cielo hoy!\n"
     ]
    }
   ],
   "source": [
    "velocidad_asteroide_km_s = 19\r\n",
    "tamanio_asteroide_m = 24\r\n",
    "\r\n",
    "if tamanio_asteroide_m >= 1000:\r\n",
    "    print(\"Este es el fin de mundo, un asteroide de 1000 metros o más golpeará la tierra!\")\r\n",
    "elif (tamanio_asteroide_m > 25 and tamanio_asteroide_m < 1000) or velocidad_asteroide_km_s >= 25:\r\n",
    "    print(f\"Se acerca un asteroide de {tamanio_asteroide_m} metros a una velocidad de {velocidad_asteroide_km_s} km/h que causara mucho daño!\")\r\n",
    "elif velocidad_asteroide_km_s >= 20:\r\n",
    "    print(\"Pidan un deseo, ahí va una estrella fugaz!\")\r\n",
    "else:\r\n",
    "    print(\"No hay nada interesante en el cielo hoy!\")"
   ]
  }
 ],
 "metadata": {
  "interpreter": {
   "hash": "ac59ebe37160ed0dfa835113d9b8498d9f09ceb179beaac4002f036b9467c963"
  },
  "kernelspec": {
   "display_name": "Python 3.9.5 64-bit",
   "name": "python3"
  },
  "language_info": {
   "codemirror_mode": {
    "name": "ipython",
    "version": 3
   },
   "file_extension": ".py",
   "mimetype": "text/x-python",
   "name": "python",
   "nbconvert_exporter": "python",
   "pygments_lexer": "ipython3",
   "version": "3.9.5"
  },
  "orig_nbformat": 4
 },
 "nbformat": 4,
 "nbformat_minor": 2
}